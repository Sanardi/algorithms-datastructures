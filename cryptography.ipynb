{
 "cells": [
  {
   "cell_type": "markdown",
   "metadata": {},
   "source": [
    "# An NLP approach for decrypting various simple encryptions faster"
   ]
  },
  {
   "cell_type": "code",
   "execution_count": 1,
   "metadata": {},
   "outputs": [],
   "source": [
    "from textblob import TextBlob\n",
    "from textblob import Word\n",
    "import random"
   ]
  },
  {
   "cell_type": "code",
   "execution_count": 2,
   "metadata": {},
   "outputs": [
    {
     "data": {
      "text/plain": [
       "['r', 'i', 'e']"
      ]
     },
     "execution_count": 2,
     "metadata": {},
     "output_type": "execute_result"
    }
   ],
   "source": [
    "#This helper function return the Top5 most occuring characters in the erypted string, to try them as the Space seperator assuming the Space is 1 of the most occuring characters\n",
    "\n",
    "from collections import Counter\n",
    "  \n",
    "def getMaxOccuringChar(text, top):\n",
    "    \n",
    "    top_seperators = []\n",
    "    count = Counter(text)\n",
    "    dictcount = dict(count)\n",
    "    for i in range(top):\n",
    "        top = max(dictcount.keys(), key=(lambda k: dictcount[k]))\n",
    "        top_seperators.append(top)\n",
    "        dictcount.pop(top)\n",
    "    return top_seperators      \n",
    "  \n",
    "cypher = \"Mreqrasvomrkrsrrerwgvmtxrxsrvihygirgsqtyxexmsrepribtirwiralirrhigvctxmrkrqiwwekiw\"\n",
    "getMaxOccuringChar(cypher, 3)"
   ]
  },
  {
   "cell_type": "code",
   "execution_count": 3,
   "metadata": {},
   "outputs": [
    {
     "name": "stdout",
     "output_type": "stream",
     "text": [
      "The cipher text is :  .rehpic esrever nialpxe ot margorp si sihT\n"
     ]
    }
   ],
   "source": [
    "#Cypher that prints text in reverse order:\n",
    "\n",
    "message = 'This is program to explain reverse cipher.'\n",
    "translated = '' #cipher text is stored in this variable\n",
    "i = len(message) - 1\n",
    "\n",
    "while i >= 0:\n",
    "   translated = translated + message[i]\n",
    "   i = i - 1\n",
    "print('The cipher text is : ', translated)"
   ]
  },
  {
   "cell_type": "code",
   "execution_count": 90,
   "metadata": {},
   "outputs": [
    {
     "name": "stdout",
     "output_type": "stream",
     "text": [
      "Plain Text : I am working on a script to reduce computational expense when decrypting messages\n",
      "Shift pattern : 4\n",
      "Cipher: mreqrasvomrkrsrrerwgvmtxrxsrvihygirgsqtyxexmsrepribtirwiralirrhigvctxmrkrqiwwekiw\n"
     ]
    }
   ],
   "source": [
    "\n",
    "\n",
    "def encrypt(text,s):\n",
    "    text = text.lower()\n",
    "    result = \"\"\n",
    "   # transverse the plain text\n",
    "    for i in range(len(text)):\n",
    "        char = text[i]\n",
    "      # Encrypt uppercase characters in plain text\n",
    "      \n",
    "        result += chr((ord(char) + s - 97) % 26 + 97)\n",
    "    return result\n",
    "\n",
    "#check the above function\n",
    "text = \"I am working on a script to reduce computational expense when decrypting messages\"\n",
    "s = 4\n",
    "\n",
    "print(\"Plain Text : \" + text)\n",
    "print(\"Shift pattern : \" + str(s))\n",
    "print (\"Cipher: \" + encrypt(text,s))"
   ]
  },
  {
   "cell_type": "code",
   "execution_count": 9,
   "metadata": {},
   "outputs": [
    {
     "name": "stdout",
     "output_type": "stream",
     "text": [
      "Hacking key #0: mreqrasvomrkrsrrerwgvmtxrxsrvihygirgsqtyxexmsrepribtirwiralirrhigvctxmrkrqiwwekiw\n",
      "Hacking key #1: lqdpqzrunlqjqrqqdqvfulswqwrquhgxfhqfrpsxwdwlrqdoqhashqvhqzkhqqghfubswlqjqphvvdjhv\n",
      "Hacking key #2: kpcopyqtmkpipqppcpuetkrvpvqptgfwegpeqorwvcvkqpcnpgzrgpugpyjgppfgetarvkpipoguucigu\n",
      "Hacking key #3: jobnoxpsljohopoobotdsjquouposfevdfodpnqvubujpobmofyqfotfoxifooefdszqujohonfttbhft\n",
      "Hacking key #4: inamnworkingnonnanscriptntonreducencomputationalnexpensenwhenndecryptingnmessages\n",
      "Hacking key #5: hmzlmvnqjhmfmnmmzmrbqhosmsnmqdctbdmbnlotszshnmzkmdwodmrdmvgdmmcdbqxoshmfmldrrzfdr\n",
      "Hacking key #6: glyklumpiglelmllylqapgnrlrmlpcbsaclamknsryrgmlyjlcvnclqclufcllbcapwnrglelkcqqyecq\n",
      "Hacking key #7: fkxjktlohfkdklkkxkpzofmqkqlkobarzbkzljmrqxqflkxikbumbkpbktebkkabzovmqfkdkjbppxdbp\n",
      "Hacking key #8: ejwijskngejcjkjjwjoynelpjpkjnazqyajykilqpwpekjwhjatlajoajsdajjzaynulpejcjiaoowcao\n",
      "Hacking key #9: divhirjmfdibijiivinxmdkoiojimzypxzixjhkpovodjivgizskzinzircziiyzxmtkodibihznnvbzn\n",
      "Hacking key #10: chughqilechahihhuhmwlcjnhnihlyxowyhwigjonuncihufhyrjyhmyhqbyhhxywlsjnchahgymmuaym\n",
      "Hacking key #11: bgtfgphkdbgzghggtglvkbimgmhgkxwnvxgvhfinmtmbhgtegxqixglxgpaxggwxvkrimbgzgfxlltzxl\n",
      "Hacking key #12: afsefogjcafyfgffsfkujahlflgfjwvmuwfugehmlslagfsdfwphwfkwfozwffvwujqhlafyfewkksywk\n",
      "Hacking key #13: zerdenfibzexefeerejtizgkekfeivultvetfdglkrkzfercevogvejvenyveeuvtipgkzexedvjjrxvj\n",
      "Hacking key #14: ydqcdmehaydwdeddqdishyfjdjedhutksudsecfkjqjyedqbdunfudiudmxuddtushofjydwdcuiiqwui\n",
      "Hacking key #15: xcpbcldgzxcvcdccpchrgxeicidcgtsjrtcrdbejipixdcpactmetchtclwtccstrgneixcvcbthhpvth\n",
      "Hacking key #16: wboabkcfywbubcbbobgqfwdhbhcbfsriqsbqcadihohwcbozbsldsbgsbkvsbbrsqfmdhwbubasggousg\n",
      "Hacking key #17: vanzajbexvatabaanafpevcgagbaerqhprapbzchgngvbanyarkcrafrajuraaqrpelcgvatazrffntrf\n",
      "Hacking key #18: uzmyziadwuzszazzmzeodubfzfazdqpgoqzoaybgfmfuazmxzqjbqzeqzitqzzpqodkbfuzszyqeemsqe\n",
      "Hacking key #19: tylxyhzcvtyryzyylydnctaeyezycpofnpynzxafeletzylwypiapydpyhspyyopncjaetyryxpddlrpd\n",
      "Hacking key #20: sxkwxgybusxqxyxxkxcmbszdxdyxbonemoxmywzedkdsyxkvxohzoxcoxgroxxnombizdsxqxwocckqoc\n",
      "Hacking key #21: rwjvwfxatrwpwxwwjwblarycwcxwanmdlnwlxvydcjcrxwjuwngynwbnwfqnwwmnlahycrwpwvnbbjpnb\n",
      "Hacking key #22: qviuvewzsqvovwvvivakzqxbvbwvzmlckmvkwuxcbibqwvitvmfxmvamvepmvvlmkzgxbqvovumaaioma\n",
      "Hacking key #23: puhtudvyrpunuvuuhuzjypwauavuylkbjlujvtwbahapvuhsulewluzludoluukljyfwapunutlzzhnlz\n",
      "Hacking key #24: otgstcuxqotmtuttgtyixovztzutxkjaiktiusvazgzoutgrtkdvktyktcnkttjkixevzotmtskyygmky\n",
      "Hacking key #25: nsfrsbtwpnslstssfsxhwnuysytswjizhjshtruzyfyntsfqsjcujsxjsbmjssijhwduynslsrjxxfljx\n"
     ]
    },
    {
     "data": {
      "text/plain": [
       "'finished'"
      ]
     },
     "execution_count": 9,
     "metadata": {},
     "output_type": "execute_result"
    }
   ],
   "source": [
    "\n",
    "def decrypt(text):\n",
    "    #LETTERS = 'ABCDEFGHIJKLMNOPQRSTUVWXYZ'\n",
    "    LETTERS = \"abcdefghijklmnopqrstuvwxyz\"\n",
    "    for key in range(len(LETTERS)):\n",
    "        translated = ''\n",
    "        for symbol in message:\n",
    "            if symbol in LETTERS:\n",
    "                num = LETTERS.find(symbol)\n",
    "                num = num - key\n",
    "                if num < 0:\n",
    "                    num = num + len(LETTERS)\n",
    "                translated = translated + LETTERS[num]\n",
    "            else:\n",
    "                translated = translated + symbol\n",
    "        print('Hacking key #%s: %s' % (key, translated))\n",
    "    return \"finished\"\n",
    "        \n",
    "text = \"I am working on a script to reduce computational expense when decrypting messages\"\n",
    "s = 4\n",
    "\n",
    "message = encrypt(text,s)\n",
    "\n",
    "decrypt(message)"
   ]
  },
  {
   "cell_type": "code",
   "execution_count": 92,
   "metadata": {},
   "outputs": [],
   "source": [
    "def decrypt_with_key(text,s):\n",
    "    text = text.lower()\n",
    "    result = \"\"\n",
    "   # transverse the plain text\n",
    "    for i in range(len(text)):\n",
    "        char = text[i]\n",
    "      # Encrypt uppercase characters in plain text\n",
    "      \n",
    "        result += chr((ord(char) - s - 97) % 26 + 97)\n",
    "    return result"
   ]
  },
  {
   "cell_type": "code",
   "execution_count": 115,
   "metadata": {},
   "outputs": [
    {
     "name": "stdout",
     "output_type": "stream",
     "text": [
      "trying seperator:  r\n"
     ]
    },
    {
     "data": {
      "text/plain": [
       "'Your Ceasar Hacking key is 4 and your message is:  i am worki g o  a script to reduce computatio al expe se whe  decrypti g messages'"
      ]
     },
     "execution_count": 115,
     "metadata": {},
     "output_type": "execute_result"
    }
   ],
   "source": [
    "def go_ceasar(text, top):\n",
    "        potential_seperators = getMaxOccuringChar(text, top)\n",
    "        #print(\"trying separators: \", potential_seperators)\n",
    "        \n",
    "    \n",
    "        for seperator in potential_seperators:\n",
    "            print(\"trying seperator: \", seperator)\n",
    "            test_text = text[:100]\n",
    "            #print(\"sample text: \", test_text)\n",
    "            message = test_text.replace(seperator, \" \")\n",
    "            LETTERS = \"abcdefghijklmnopqrstuvwxyz\"\n",
    "            for key in range(len(LETTERS)):\n",
    "                translated = ''\n",
    "                for symbol in message:\n",
    "                    if symbol in LETTERS:\n",
    "                        num = LETTERS.find(symbol)\n",
    "                        num = num - key\n",
    "                        if num < 0:\n",
    "                            num = num + len(LETTERS)\n",
    "                        translated = translated + LETTERS[num]\n",
    "                    else:\n",
    "                        translated = translated + symbol\n",
    "                #print('Hacking key #%s: %s' % (key, translated))\n",
    "            \n",
    "                blob = TextBlob(translated.lower())\n",
    "                verbs = []\n",
    "                tags = dict(blob.tags)\n",
    "                \n",
    "                if \"VB\" in tags or \"DT\" in tags or \"TO\" in tags.values():\n",
    "                \n",
    "                    #print (\"This seems to be real text...\")\n",
    "                    new_seperator = decrypt_with_key(seperator, key)\n",
    "                    \n",
    "                    good_text = text.replace(new_seperator, \" \")\n",
    "                    decrypted = decrypt_with_key(good_text, key)\n",
    "                    good_text = decrypted.replace(new_seperator, \" \")\n",
    "                    \n",
    "                    #decrypted = TextBlob(decrypted)\n",
    "                    #decrypted = decrypted.correct()\n",
    "                    return \"Your Ceasar Hacking key is {} and your message is:  {}\".format(key, str(good_text))\n",
    "\n",
    "text = \"I am working on a script to reduce computational expense when decrypting messages\"\n",
    "s = 4\n",
    "\n",
    "message = encrypt(text,s)\n",
    "go_ceasar(message, 5)"
   ]
  },
  {
   "cell_type": "code",
   "execution_count": 116,
   "metadata": {},
   "outputs": [],
   "source": [
    "\n",
    "class sanardi_decrypts:\n",
    "    def __init__(self, text, top = 5):\n",
    "        self.text = text\n",
    "        self.top = top\n",
    "        \n",
    "    def __str__(self):\n",
    "        return '''This Class lets pass as Argument\n",
    "        the text to be encrypted and will try different decryption \n",
    "        algoritms using NLP and Bayesian Statistics to decide if \n",
    "        the method is likely to result in intelligible text or move on, thus reducing computational expense'''\n",
    "    \n",
    "    \n",
    "    \n",
    "    def getMaxOccuringChar(text, top):\n",
    "    \n",
    "        top_seperators = []\n",
    "        count = Counter(text)\n",
    "        dictcount = dict(count)\n",
    "        for i in range(top):\n",
    "            top = max(dictcount.keys(), key=(lambda k: dictcount[k]))\n",
    "            top_seperators.append(top)\n",
    "            dictcount.pop(top)\n",
    "        return top_seperators \n",
    "\n",
    "    def go_ceasar(text, top):\n",
    "        potential_seperators = getMaxOccuringChar(text, top)\n",
    "        #print(\"trying separators: \", potential_seperators)\n",
    "        \n",
    "    \n",
    "        for seperator in potential_seperators:\n",
    "            print(\"trying seperator: \", seperator)\n",
    "            test_text = text[:100]\n",
    "            #print(\"sample text: \", test_text)\n",
    "            message = test_text.replace(seperator, \" \")\n",
    "            LETTERS = \"abcdefghijklmnopqrstuvwxyz\"\n",
    "            for key in range(len(LETTERS)):\n",
    "                translated = ''\n",
    "                for symbol in message:\n",
    "                    if symbol in LETTERS:\n",
    "                        num = LETTERS.find(symbol)\n",
    "                        num = num - key\n",
    "                        if num < 0:\n",
    "                            num = num + len(LETTERS)\n",
    "                        translated = translated + LETTERS[num]\n",
    "                    else:\n",
    "                        translated = translated + symbol\n",
    "                #print('Hacking key #%s: %s' % (key, translated))\n",
    "            \n",
    "                blob = TextBlob(translated.lower())\n",
    "                verbs = []\n",
    "                tags = dict(blob.tags)\n",
    "                \n",
    "                if \"VB\" in tags or \"DT\" in tags or \"TO\" in tags.values():\n",
    "                \n",
    "                    #print (\"This seems to be real text...\")\n",
    "                    new_seperator = decrypt_with_key(seperator, key)\n",
    "                    \n",
    "                    good_text = text.replace(new_seperator, \" \")\n",
    "                    decrypted = decrypt_with_key(good_text, key)\n",
    "                    good_text = decrypted.replace(new_seperator, \" \")\n",
    "                    \n",
    "                    #decrypted = TextBlob(decrypted)\n",
    "                    #decrypted = decrypted.correct()\n",
    "                    return \"Your Ceasar Hacking key is {} and your message is:  {}\".format(key, str(good_text))\n",
    "\n",
    "    def run(self):\n",
    "        print(\"I will now check for ceasar cypher\")\n",
    "        result = go_ceasar(self)\n",
    "        return result"
   ]
  },
  {
   "cell_type": "code",
   "execution_count": 117,
   "metadata": {},
   "outputs": [
    {
     "name": "stdout",
     "output_type": "stream",
     "text": [
      "I will now check for ceasar cypher\n"
     ]
    },
    {
     "ename": "TypeError",
     "evalue": "go_ceasar() missing 1 required positional argument: 'top'",
     "output_type": "error",
     "traceback": [
      "\u001b[1;31m---------------------------------------------------------------------------\u001b[0m",
      "\u001b[1;31mTypeError\u001b[0m                                 Traceback (most recent call last)",
      "\u001b[1;32m<ipython-input-117-5bdbd7a9941c>\u001b[0m in \u001b[0;36m<module>\u001b[1;34m\u001b[0m\n\u001b[0;32m      4\u001b[0m \u001b[0mmessage\u001b[0m \u001b[1;33m=\u001b[0m \u001b[0mencrypt\u001b[0m\u001b[1;33m(\u001b[0m\u001b[0mtext\u001b[0m\u001b[1;33m,\u001b[0m\u001b[0ms\u001b[0m\u001b[1;33m)\u001b[0m\u001b[1;33m\u001b[0m\u001b[1;33m\u001b[0m\u001b[0m\n\u001b[0;32m      5\u001b[0m \u001b[0mtryclass\u001b[0m \u001b[1;33m=\u001b[0m \u001b[0msanardi_decrypts\u001b[0m\u001b[1;33m(\u001b[0m\u001b[0mmessage\u001b[0m\u001b[1;33m,\u001b[0m \u001b[1;36m5\u001b[0m\u001b[1;33m)\u001b[0m\u001b[1;33m\u001b[0m\u001b[1;33m\u001b[0m\u001b[0m\n\u001b[1;32m----> 6\u001b[1;33m \u001b[0mtryclass\u001b[0m\u001b[1;33m.\u001b[0m\u001b[0mrun\u001b[0m\u001b[1;33m(\u001b[0m\u001b[1;33m)\u001b[0m\u001b[1;33m\u001b[0m\u001b[1;33m\u001b[0m\u001b[0m\n\u001b[0m",
      "\u001b[1;32m<ipython-input-116-233f030dcebf>\u001b[0m in \u001b[0;36mrun\u001b[1;34m(self)\u001b[0m\n\u001b[0;32m     66\u001b[0m     \u001b[1;32mdef\u001b[0m \u001b[0mrun\u001b[0m\u001b[1;33m(\u001b[0m\u001b[0mself\u001b[0m\u001b[1;33m)\u001b[0m\u001b[1;33m:\u001b[0m\u001b[1;33m\u001b[0m\u001b[1;33m\u001b[0m\u001b[0m\n\u001b[0;32m     67\u001b[0m         \u001b[0mprint\u001b[0m\u001b[1;33m(\u001b[0m\u001b[1;34m\"I will now check for ceasar cypher\"\u001b[0m\u001b[1;33m)\u001b[0m\u001b[1;33m\u001b[0m\u001b[1;33m\u001b[0m\u001b[0m\n\u001b[1;32m---> 68\u001b[1;33m         \u001b[0mresult\u001b[0m \u001b[1;33m=\u001b[0m \u001b[0mgo_ceasar\u001b[0m\u001b[1;33m(\u001b[0m\u001b[0mself\u001b[0m\u001b[1;33m)\u001b[0m\u001b[1;33m\u001b[0m\u001b[1;33m\u001b[0m\u001b[0m\n\u001b[0m\u001b[0;32m     69\u001b[0m         \u001b[1;32mreturn\u001b[0m \u001b[0mresult\u001b[0m\u001b[1;33m\u001b[0m\u001b[1;33m\u001b[0m\u001b[0m\n",
      "\u001b[1;31mTypeError\u001b[0m: go_ceasar() missing 1 required positional argument: 'top'"
     ]
    }
   ],
   "source": [
    "text = \"I am working on a script to reduce computational expense when decrypting messages\"\n",
    "s = 4\n",
    "\n",
    "message = encrypt(text,s)\n",
    "tryclass = sanardi_decrypts(message, 5)\n",
    "tryclass.run()"
   ]
  },
  {
   "cell_type": "code",
   "execution_count": 48,
   "metadata": {},
   "outputs": [
    {
     "ename": "NameError",
     "evalue": "name 'decrypt_ceasar' is not defined",
     "output_type": "error",
     "traceback": [
      "\u001b[1;31m---------------------------------------------------------------------------\u001b[0m",
      "\u001b[1;31mNameError\u001b[0m                                 Traceback (most recent call last)",
      "\u001b[1;32m<ipython-input-48-7e50f99dafe1>\u001b[0m in \u001b[0;36m<module>\u001b[1;34m\u001b[0m\n\u001b[0;32m      4\u001b[0m \u001b[1;32mfrom\u001b[0m \u001b[0mtextblob\u001b[0m \u001b[1;32mimport\u001b[0m \u001b[0mTextBlob\u001b[0m\u001b[1;33m\u001b[0m\u001b[1;33m\u001b[0m\u001b[0m\n\u001b[0;32m      5\u001b[0m \u001b[1;33m\u001b[0m\u001b[0m\n\u001b[1;32m----> 6\u001b[1;33m \u001b[0mdecrypt_ceasar\u001b[0m\u001b[1;33m(\u001b[0m\u001b[0mmessage\u001b[0m\u001b[1;33m)\u001b[0m\u001b[1;33m\u001b[0m\u001b[1;33m\u001b[0m\u001b[0m\n\u001b[0m",
      "\u001b[1;31mNameError\u001b[0m: name 'decrypt_ceasar' is not defined"
     ]
    }
   ],
   "source": [
    "#message = 'GIEWIVrGMTLIVrHIQS' #encrypted message\n",
    "message = \"Mreqrasvomrkrsrrerwgvmtxrxsrvihygirgsqtyxexmsrepribtirwiralirrhigvctxmrkrqiwwekiw\"\n",
    "\n",
    "from textblob import TextBlob\n",
    "\n",
    "decrypt_ceasar(message)"
   ]
  },
  {
   "cell_type": "code",
   "execution_count": null,
   "metadata": {},
   "outputs": [],
   "source": [
    "\n",
    "from string import maketrans\n",
    "\n",
    "rot13trans = maketrans('ABCDEFGHIJKLMNOPQRSTUVWXYZabcdefghijklmnopqrstuvwxyz', \n",
    "   'NOPQRSTUVWXYZABCDEFGHIJKLMnopqrstuvwxyzabcdefghijklm')\n",
    "\n",
    "# Function to translate plain text\n",
    "def rot13(text):\n",
    "    \n",
    "    return text.translate(rot13trans)\n",
    "\n",
    "    \n",
    "    \n",
    "text = \"ROT13 Algorithm\"\n",
    "rot13(text) "
   ]
  },
  {
   "cell_type": "code",
   "execution_count": null,
   "metadata": {},
   "outputs": [],
   "source": [
    "def split_len(seq, length):\n",
    "    return [seq[i:i + length] for i in range(0, len(seq), length)]\n",
    "def encode(key, plaintext):\n",
    "    order = {\n",
    "      int(val): num for num, val in enumerate(key)\n",
    "   }\n",
    "    \n",
    "    ciphertext = ''\n",
    "\n",
    "    for index in sorted(order.keys()):\n",
    "        for part in split_len(plaintext, len(key)):\n",
    "            try:ciphertext += part[order[index]]\n",
    "            except IndexError:\n",
    "                continue\n",
    "    return ciphertext\n",
    "print(encode('3214', 'HELLO'))"
   ]
  },
  {
   "cell_type": "code",
   "execution_count": null,
   "metadata": {},
   "outputs": [],
   "source": [
    "#%pip install pyperclip\n",
    "import pyperclip\n",
    "\n",
    "   \n",
    "def encryptMessage(key, message):\n",
    "    ciphertext = [''] * key\n",
    "   \n",
    "    for col in range(key):\n",
    "        position = col\n",
    "        while position < len(message):\n",
    "            ciphertext[col] += message[position]\n",
    "            position += key\n",
    "    return ''.join(ciphertext) #Cipher text\n",
    "\n",
    "myMessage = 'Transposition Cipher'\n",
    "myKey = 10\n",
    "ciphertext = encryptMessage(myKey, myMessage)\n",
    "   \n",
    "print(\"Cipher Text is\")\n",
    "print(ciphertext + '|')\n",
    "pyperclip.copy(ciphertext)\n"
   ]
  },
  {
   "cell_type": "code",
   "execution_count": null,
   "metadata": {},
   "outputs": [],
   "source": [
    "# Python 3 code to demonstrate the  \n",
    "# working of MD5 (byte - byte) \n",
    "  \n",
    "import hashlib \n",
    "# encoding GeeksforGeeks using md5 hash \n",
    "# function  \n",
    "str2hash = \"hello\"\n",
    "  \n",
    "# encoding GeeksforGeeks using encode() \n",
    "# then sending to md5() \n",
    "result = hashlib.md5(str2hash.encode()) \n",
    "  \n",
    "# printing the equivalent hexadecimal value. \n",
    "print(\"The hexadecimal equivalent of hash is : \", end =\"\") \n",
    "tocrack = result.hexdigest()\n",
    "tocrack"
   ]
  },
  {
   "cell_type": "code",
   "execution_count": null,
   "metadata": {},
   "outputs": [],
   "source": []
  },
  {
   "cell_type": "code",
   "execution_count": null,
   "metadata": {},
   "outputs": [],
   "source": [
    "txt = \"abcdefghijklmnopqrstuvwxyz\";\n",
    "\n",
    "for i in range(len(txt)):\n",
    "        ch1 = txt[i]\n",
    "        for j in range(len(txt)):\n",
    "            ch2 = txt[j]\n",
    "            for k in range(len(txt)):\n",
    "                ch3 = txt[k]\n",
    "                for l in range(len(txt)):\n",
    "                    ch4 = txt[l]\n",
    "                    for m in range(len(txt)):\n",
    "                        ch5 = txt[m]\n",
    "            \n",
    "    \n",
    "                        testcode = ch1 + ch2 + ch3 +ch4 + ch5  \n",
    "\n",
    "                        check = hashlib.md5(testcode.encode()) \n",
    "                        trycrack = check.hexdigest()\n",
    "\n",
    "                        if trycrack == tocrack:\n",
    "                            \n",
    "                            break\n",
    "                        else:\n",
    "                            continue\n",
    "                        break\n",
    "                    if trycrack == tocrack:\n",
    "                        \n",
    "                        break\n",
    "                    else:\n",
    "                        continue\n",
    "                    break\n",
    "                if trycrack == tocrack:\n",
    "                    \n",
    "                    break\n",
    "                else:\n",
    "                    continue\n",
    "                break\n",
    "            if trycrack == tocrack:\n",
    "                \n",
    "                break\n",
    "            else:\n",
    "                continue\n",
    "            break\n",
    "        if trycrack == tocrack:\n",
    "            print(trycrack)\n",
    "            break\n",
    "        else:\n",
    "            continue\n",
    "        break\n",
    "            \n",
    "            \n",
    "    \n",
    "    \n",
    "                    \n",
    "                    \n",
    "                \n",
    "            \n",
    "              \n",
    "\n",
    "        \n",
    "trycrack"
   ]
  },
  {
   "cell_type": "code",
   "execution_count": null,
   "metadata": {},
   "outputs": [],
   "source": [
    "testcode"
   ]
  },
  {
   "cell_type": "code",
   "execution_count": null,
   "metadata": {},
   "outputs": [],
   "source": [
    "<?php\n",
    "ini_set('max_execution_time', 300); //300 seconds = 5 minutes\n",
    "$goodtext = \"Not found\";\n",
    "// If there is no parameter, this code is all skipped\n",
    "if ( isset($_GET['md5']) ) {\n",
    "    $time_pre = microtime(true);\n",
    "    $md5 = $_GET['md5'];\n",
    "\n",
    "    // This is our alphabet\n",
    "    $txt = \"abcdefghijklmnopqrstuvwxyz\";\n",
    "    $show = 25;\n",
    "\n",
    "    // Outer loop go go through the alphabet for the\n",
    "    // first position in our \"possible\" pre-hash\n",
    "    // text\n",
    "    for($i=0; $i<strlen($txt); $i++ ) {\n",
    "        $ch1 = $txt[$i];   // The first of six characters\n",
    "\n",
    "        // Our inner loop Note the use of new variables\n",
    "        // $j and $ch2\n",
    "        for($j=0; $j<strlen($txt); $j++ ) {\n",
    "            $ch2 = $txt[$j];  // Our second character\n",
    "\n",
    "            for($k=0; $k<strlen($txt); $k++ ) {\n",
    "                $ch3 = $txt[$k];  // Our third character\n",
    "\n",
    "                for($l=0; $l<strlen($txt); $l++ ) {\n",
    "                    $ch4 = $txt[$l];  // Our forth character\n",
    "\n",
    "                    for($l=0; $l<strlen($txt); $l++ ) {\n",
    "                    $ch5 = $txt[$l];  // Our fith character\n",
    "\n",
    "                        for($l=0; $l<strlen($txt); $l++ ) {\n",
    "                        $ch6 = $txt[$l];  // Our sixth character\n",
    "\n",
    "\n",
    "            // Concatenate the six characters together to\n",
    "            // form the \"possible\" pre-hash text\n",
    "            $try = $ch1.$ch2.$ch3.$ch4.$ch5.$ch6;                                                                                                                  \n",
    "\n",
    "            // Run the hash and then check to see if we match\n",
    "            $check = hash('md5', $try);\n",
    "\n",
    "            if ( $check == $md5 ) {\n",
    "                $goodtext = $try;\n",
    "                break;   // Exit the inner loop\n",
    "            }\n",
    "\n",
    "            // Debug output until $show hits 0\n",
    "            if ( $show > 0 ) {\n",
    "                print \"$check $try\\n\";\n",
    "                $show = $show - 1;\n",
    "                }\n",
    "              }                                                                                                     \n",
    "            }\n",
    "        }\n",
    "    }\n",
    "    // Compute elapsed time\n",
    "    $time_post = microtime(true);\n",
    "    print \"Elapsed time: \";\n",
    "    print $time_post-$time_pre;\n",
    "    print \"\\n\";\n",
    "}\n",
    "?>                                                                  "
   ]
  }
 ],
 "metadata": {
  "kernelspec": {
   "display_name": "Python 3",
   "language": "python",
   "name": "python3"
  },
  "language_info": {
   "codemirror_mode": {
    "name": "ipython",
    "version": 3
   },
   "file_extension": ".py",
   "mimetype": "text/x-python",
   "name": "python",
   "nbconvert_exporter": "python",
   "pygments_lexer": "ipython3",
   "version": "3.7.4"
  }
 },
 "nbformat": 4,
 "nbformat_minor": 2
}
