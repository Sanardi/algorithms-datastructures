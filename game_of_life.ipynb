{
 "cells": [
  {
   "cell_type": "code",
   "execution_count": 1,
   "metadata": {},
   "outputs": [
    {
     "data": {
      "text/plain": [
       "'1. Create a list of integers 0-9 using comprehension and print out the list\\n#  \\t2. Convert the list from #1 to a list of strings and print out the new list\\n#\\t3. Create a dictionary using the list from #1, with key = item as string, value = item and print out the dictionary\\n#\\t4. Create a function that takes an integer and prints out the fibonacci number at that index in the fibonacci sequence (0, 1, 1, 2, 3, 5, etc) (so fibonacci(3) would print \"2\"), then apply that function to the list from #1\\n#\\t\\t(reference: https://en.wikipedia.org/wiki/Fibonacci_number)\\n#\\t5. Sort the list from #4, descending order (don\\'t use builtin reverse) and print it\\n#\\t6. Filter the list from #4, keep any elements whose values are < 15 and print it'"
      ]
     },
     "execution_count": 1,
     "metadata": {},
     "output_type": "execute_result"
    }
   ],
   "source": [
    "'''1. Create a list of integers 0-9 using comprehension and print out the list\n",
    "#  \t2. Convert the list from #1 to a list of strings and print out the new list\n",
    "#\t3. Create a dictionary using the list from #1, with key = item as string, value = item and print out the dictionary\n",
    "#\t4. Create a function that takes an integer and prints out the fibonacci number at that index in the fibonacci sequence (0, 1, 1, 2, 3, 5, etc) (so fibonacci(3) would print \"2\"), then apply that function to the list from #1\n",
    "#\t\t(reference: https://en.wikipedia.org/wiki/Fibonacci_number)\n",
    "#\t5. Sort the list from #4, descending order (don't use builtin reverse) and print it\n",
    "#\t6. Filter the list from #4, keep any elements whose values are < 15 and print it'''"
   ]
  },
  {
   "cell_type": "code",
   "execution_count": 6,
   "metadata": {},
   "outputs": [
    {
     "name": "stdout",
     "output_type": "stream",
     "text": [
      "-7\n"
     ]
    }
   ],
   "source": [
    "def f(x, y, z):\n",
    "    print(x^2 + y^2 -z)\n",
    "    \n",
    "a_list = [2, 4, 5]\n",
    "\n",
    "f(*a_list)\n",
    "#to apply a function to the whole list of arguments use *\n"
   ]
  },
  {
   "cell_type": "code",
   "execution_count": 4,
   "metadata": {},
   "outputs": [
    {
     "name": "stdout",
     "output_type": "stream",
     "text": [
      "[0, 1, 2, 3, 4, 5, 6, 7, 8, 9]\n"
     ]
    }
   ],
   "source": [
    "the_list = [x for x in range(10)]\n",
    "print(the_list)"
   ]
  },
  {
   "cell_type": "code",
   "execution_count": 7,
   "metadata": {},
   "outputs": [
    {
     "data": {
      "text/plain": [
       "['0', '1', '2', '3', '4', '5', '6', '7', '8', '9']"
      ]
     },
     "execution_count": 7,
     "metadata": {},
     "output_type": "execute_result"
    }
   ],
   "source": [
    "str_list = [str(x) for x in the_list]\n",
    "str_list"
   ]
  },
  {
   "cell_type": "code",
   "execution_count": 12,
   "metadata": {},
   "outputs": [
    {
     "data": {
      "text/plain": [
       "{'0': 0,\n",
       " '1': 1,\n",
       " '2': 2,\n",
       " '3': 3,\n",
       " '4': 4,\n",
       " '5': 5,\n",
       " '6': 6,\n",
       " '7': 7,\n",
       " '8': 8,\n",
       " '9': 9}"
      ]
     },
     "execution_count": 12,
     "metadata": {},
     "output_type": "execute_result"
    }
   ],
   "source": [
    "the_dict = {k: v for k, v in zip(str_list,the_list )}\n",
    "the_dict"
   ]
  },
  {
   "cell_type": "code",
   "execution_count": null,
   "metadata": {},
   "outputs": [],
   "source": [
    "#fn = fn-1 +fn-2"
   ]
  },
  {
   "cell_type": "code",
   "execution_count": null,
   "metadata": {},
   "outputs": [],
   "source": [
    "def fib(n):\n",
    "    for i in range(10):\n",
    "        \n",
    "    return "
   ]
  },
  {
   "cell_type": "code",
   "execution_count": 13,
   "metadata": {},
   "outputs": [],
   "source": [
    "fib = [0,1,1, 2, 3, 5, 8, 13, 21, 34]"
   ]
  },
  {
   "cell_type": "code",
   "execution_count": 20,
   "metadata": {},
   "outputs": [
    {
     "data": {
      "text/plain": [
       "[34, 21, 13, 8, 5, 3, 2, 1, 1, 0]"
      ]
     },
     "execution_count": 20,
     "metadata": {},
     "output_type": "execute_result"
    }
   ],
   "source": [
    "rev_fib = fib[:: -1]\n",
    "rev_fib"
   ]
  },
  {
   "cell_type": "code",
   "execution_count": 22,
   "metadata": {},
   "outputs": [
    {
     "data": {
      "text/plain": [
       "[13, 8, 5, 3, 2, 1, 1, 0]"
      ]
     },
     "execution_count": 22,
     "metadata": {},
     "output_type": "execute_result"
    }
   ],
   "source": [
    "filt_fib = [x for x in rev_fib if not x>15]\n",
    "filt_fib"
   ]
  },
  {
   "cell_type": "code",
   "execution_count": 24,
   "metadata": {},
   "outputs": [
    {
     "name": "stdout",
     "output_type": "stream",
     "text": [
      "[0, 1, 1, 2, 3, 5, 8, 13, 21, 34]\n"
     ]
    }
   ],
   "source": [
    "def fibonacci(n):\n",
    "    if n == 0 or n == 1:\n",
    "        return n\n",
    "    return fibonacci(n - 1) + fibonacci(n - 2)\n",
    "\n",
    "fib_list = [fibonacci(n) for n in range(10)]\n",
    "print(fib_list)"
   ]
  },
  {
   "cell_type": "code",
   "execution_count": 1,
   "metadata": {},
   "outputs": [],
   "source": [
    "def factorial(n):    \n",
    "    if n == 1:\n",
    "        print(n)\n",
    "        return 1    \n",
    "    else:\n",
    "        print (n,'*', end=' ')\n",
    "        return n * factorial(n-1)"
   ]
  },
  {
   "cell_type": "code",
   "execution_count": 2,
   "metadata": {},
   "outputs": [
    {
     "name": "stdout",
     "output_type": "stream",
     "text": [
      "4 * 3 * 2 * 1\n"
     ]
    },
    {
     "data": {
      "text/plain": [
       "24"
      ]
     },
     "execution_count": 2,
     "metadata": {},
     "output_type": "execute_result"
    }
   ],
   "source": [
    "factorial(4)"
   ]
  },
  {
   "cell_type": "code",
   "execution_count": 4,
   "metadata": {},
   "outputs": [
    {
     "data": {
      "text/plain": [
       "\"\\nGame of life\\n\\nhttps://en.wikipedia.org/wiki/Conway%27s_Game_of_Life\\n1. Any live cell with fewer than two live neighbors dies, as if by underpopulation.\\n2. Any live cell with two or three live neighbors lives on to the next generation.\\n3. Any live cell with more than three live neighbors dies, as if by overpopulation.\\n4. Any dead cell with exactly three live neighbors becomes a live cell, as if by reproduction. \\u2028\\nYour solution should iterate N times, printing the transformed matrix at the\\nend of each iteration.\\nWhen the code is complete we'll run 3x to check the final matrix.\\nPlease pick a starting matrix of your choosing that is >= 3x3\\n\\n\\ninput_matrix = [\\n  [0, 0, 0],\\n  [1, 1, 1],\\n  [0, 0, 0]\\n]\\n\""
      ]
     },
     "execution_count": 4,
     "metadata": {},
     "output_type": "execute_result"
    }
   ],
   "source": [
    "'''\n",
    "Game of life\n",
    "\n",
    "https://en.wikipedia.org/wiki/Conway%27s_Game_of_Life\n",
    "1. Any live cell with fewer than two live neighbors dies, as if by underpopulation.\n",
    "2. Any live cell with two or three live neighbors lives on to the next generation.\n",
    "3. Any live cell with more than three live neighbors dies, as if by overpopulation.\n",
    "4. Any dead cell with exactly three live neighbors becomes a live cell, as if by reproduction.  ",
    "\n",
    "Your solution should iterate N times, printing the transformed matrix at the\n",
    "end of each iteration.\n",
    "When the code is complete we'll run 3x to check the final matrix.\n",
    "Please pick a starting matrix of your choosing that is >= 3x3\n",
    "\n",
    "\n",
    "input_matrix = [\n",
    "  [0, 0, 0],\n",
    "  [1, 1, 1],\n",
    "  [0, 0, 0]\n",
    "]\n",
    "'''"
   ]
  },
  {
   "cell_type": "code",
   "execution_count": 247,
   "metadata": {},
   "outputs": [
    {
     "data": {
      "text/plain": [
       "\"\\nGame of life\\n\\nhttps://en.wikipedia.org/wiki/Conway%27s_Game_of_Life\\n1. Any live cell with fewer than two live neighbors dies, as if by underpopulation.\\n2. Any live cell with two or three live neighbors lives on to the next generation.\\n3. Any live cell with more than three live neighbors dies, as if by overpopulation.\\n4. Any dead cell with exactly three live neighbors becomes a live cell, as if by reproduction. \\n\\n\\nYour solution should iterate N times, printing the transformed matrix at the\\nend of each iteration.\\nWhen the code is complete we'll run 3x to check the final matrix.\\nPlease pick a starting matrix of your choosing that is >= 3x3\\n\\n\\ninput_matrix = [\\n  [0, 0, 0],\\n  [1, 1, 1],\\n  [0, 0, 0]\\n]\\n\""
      ]
     },
     "execution_count": 247,
     "metadata": {},
     "output_type": "execute_result"
    }
   ],
   "source": [
    "def game_of_life(input_matrix):\n",
    "    output_matrix = [\n",
    "  [0, 0, 0],\n",
    "  [0, 0, 0],\n",
    "  [0, 0, 0]\n",
    "]\n",
    "    for  row, i in enumerate(input_matrix):\n",
    "        print(\"row index:\", row, \"array:\",  i)\n",
    "        \n",
    "        for index, value in enumerate(i):\n",
    "            i_neighbours = 0\n",
    "            print(\"index:\", index, \"value:\", value)\n",
    "            i_index = index\n",
    "            i_value = value\n",
    "            \n",
    "            if i_index == 0:\n",
    "                check_neighbours = i[(i_index+1)]\n",
    "                #print(\"neighbour:\", check_neighbours)\n",
    "                \n",
    "            elif i_index == len(i)-1:\n",
    "                check_neighbours = i[(i_index-1)]\n",
    "                #print(\"neighbour:\", check_neighbours)\n",
    "                \n",
    "            else:\n",
    "                check_neighbours = i[(i_index+1)] + i[(i_index-1)]\n",
    "                #print(\"neighbour:\", check_neighbours)\n",
    "            i_neighbours += check_neighbours\n",
    "            \n",
    "            \n",
    "            print(value, \": +++neighbours in row:\", i_neighbours)\n",
    "            \n",
    "            if row == 0:\n",
    "                i2 = input_matrix[1]\n",
    "              \n",
    "                i_index = index\n",
    "                \n",
    "                print(i_index)\n",
    "            \n",
    "                if i_index == 0:\n",
    "                    check_neighbours_below = i2[i_index] + i2[(i_index+1)]\n",
    "                    print(\"neighbour below:\", check_neighbours_below)\n",
    "                \n",
    "                elif i_index == len(i2)-1:\n",
    "                    check_neighbours_below = i2[i_index] + i2[(i_index-1)]\n",
    "                    print(\"neighbour below:\", check_neighbours_below)\n",
    "                \n",
    "                else:\n",
    "                    check_neighbours_below = i2[(i_index+1)] + i2[i_index] + i2[(i_index-1)]\n",
    "                    print(\"neighbour below:\", check_neighbours_below)\n",
    "                i_neighbours += check_neighbours_below\n",
    "                \n",
    "            elif row == len(input_matrix) -1:\n",
    "                i2 = input_matrix[row-1]\n",
    "              \n",
    "                i_index = index\n",
    "                \n",
    "                print(i_index)\n",
    "            \n",
    "                if i_index == 0:\n",
    "                    check_neighbours_above = i2[i_index] + i2[(i_index+1)]\n",
    "                    print(\"neighbour above:\", check_neighbours_above)\n",
    "                \n",
    "                elif i_index == len(i2)-1:\n",
    "                    check_neighbours_above = i2[i_index] + i2[(i_index-1)]\n",
    "                    print(\"neighbour above:\", check_neighbours_above)\n",
    "                \n",
    "                else:\n",
    "                    check_neighbours_above = i2[(i_index+1)] + i2[i_index] + i2[(i_index-1)]\n",
    "                    print(\"neighbour above:\", check_neighbours_above)\n",
    "                i_neighbours += check_neighbours_above\n",
    "            else:\n",
    "                \n",
    "                i2 = input_matrix[row+1]\n",
    "              \n",
    "                i_index = index\n",
    "                i_value = value\n",
    "                print(i_index)\n",
    "            \n",
    "                if i_index == 0:\n",
    "                    check_neighbours_below = i2[i_index] + i2[(i_index+1)]\n",
    "                    print(\"neighbour below:\", check_neighbours_below)\n",
    "                \n",
    "                elif i_index == len(i2)-1:\n",
    "                    check_neighbours_below = i2[i_index] + i2[(i_index-1)]\n",
    "                    print(\"neighbour below:\", check_neighbours_below)\n",
    "                \n",
    "                else:\n",
    "                    check_neighbours_below = i2[(i_index+1)] + i2[i_index] + i2[(i_index-1)]\n",
    "                    print(\"neighbour below:\", check_neighbours_below)\n",
    "                i_neighbours += check_neighbours_below\n",
    "                \n",
    "                i2 = input_matrix[row-1]\n",
    "              \n",
    "            \n",
    "                if i_index == 0:\n",
    "                    check_neighbours_above = i2[i_index] + i2[(i_index+1)]\n",
    "                    print(\"neighbour above:\", check_neighbours_above)\n",
    "                \n",
    "                elif i_index == len(i2)-1:\n",
    "                    check_neighbours_above = i2[i_index] + i2[(i_index-1)]\n",
    "                    print(\"neighbour above:\", check_neighbours_above)\n",
    "                \n",
    "                else:\n",
    "                    check_neighbours_above = i2[(i_index+1)] + i2[i_index] + i2[(i_index-1)]\n",
    "                    print(\"neighbour above:\", check_neighbours_above)\n",
    "                i_neighbours += check_neighbours_above\n",
    "            \n",
    "            print(\"***total neighbours\", i_neighbours)\n",
    "            \n",
    "            if i_neighbours  == 3:\n",
    "                output_matrix[row][index] = 1\n",
    "                \n",
    "            elif input_matrix[row][index] == 1 and  2<= i_neighbours <= 3:\n",
    "                output_matrix[row][index] = 1\n",
    "                \n",
    "            elif  i_neighbours <2 or i_neighbours > 3 :\n",
    "                output_matrix[row][index] = 0\n",
    "            \n",
    "            \n",
    "                \n",
    "            print(output_matrix)\n",
    "            return output_matrix\n",
    "        \n",
    "game_of_life(game_of_life(game_of_life(input_matrix))\n",
    "             \n",
    "             \n",
    "                \n",
    "            \n",
    "'''\n",
    "\n",
    "THis only works for 3x3 Matrix, because I hardcoded the output array dimensions, hope this is sufficient for now\n",
    "\n",
    "\n",
    "'''            \n"
   ]
  },
  {
   "cell_type": "code",
   "execution_count": 248,
   "metadata": {},
   "outputs": [
    {
     "name": "stdout",
     "output_type": "stream",
     "text": [
      "row index: 0 array: [0, 0, 0]\n",
      "index: 0 value: 0\n",
      "0 : +++neighbours in row: 0\n",
      "0\n",
      "neighbour below: 2\n",
      "***total neighbours 2\n",
      "[[0, 0, 0], [0, 0, 0], [0, 0, 0]]\n",
      "index: 1 value: 0\n",
      "0 : +++neighbours in row: 0\n",
      "1\n",
      "neighbour below: 3\n",
      "***total neighbours 3\n",
      "[[0, 1, 0], [0, 0, 0], [0, 0, 0]]\n",
      "index: 2 value: 0\n",
      "0 : +++neighbours in row: 0\n",
      "2\n",
      "neighbour below: 2\n",
      "***total neighbours 2\n",
      "[[0, 1, 0], [0, 0, 0], [0, 0, 0]]\n",
      "row index: 1 array: [1, 1, 1]\n",
      "index: 0 value: 1\n",
      "1 : +++neighbours in row: 1\n",
      "0\n",
      "neighbour below: 0\n",
      "neighbour above: 0\n",
      "***total neighbours 1\n",
      "[[0, 1, 0], [0, 0, 0], [0, 0, 0]]\n",
      "index: 1 value: 1\n",
      "1 : +++neighbours in row: 2\n",
      "1\n",
      "neighbour below: 0\n",
      "neighbour above: 0\n",
      "***total neighbours 2\n",
      "[[0, 1, 0], [0, 1, 0], [0, 0, 0]]\n",
      "index: 2 value: 1\n",
      "1 : +++neighbours in row: 1\n",
      "2\n",
      "neighbour below: 0\n",
      "neighbour above: 0\n",
      "***total neighbours 1\n",
      "[[0, 1, 0], [0, 1, 0], [0, 0, 0]]\n",
      "row index: 2 array: [0, 0, 0]\n",
      "index: 0 value: 0\n",
      "0 : +++neighbours in row: 0\n",
      "0\n",
      "neighbour above: 2\n",
      "***total neighbours 2\n",
      "[[0, 1, 0], [0, 1, 0], [0, 0, 0]]\n",
      "index: 1 value: 0\n",
      "0 : +++neighbours in row: 0\n",
      "1\n",
      "neighbour above: 3\n",
      "***total neighbours 3\n",
      "[[0, 1, 0], [0, 1, 0], [0, 1, 0]]\n",
      "index: 2 value: 0\n",
      "0 : +++neighbours in row: 0\n",
      "2\n",
      "neighbour above: 2\n",
      "***total neighbours 2\n",
      "[[0, 1, 0], [0, 1, 0], [0, 1, 0]]\n"
     ]
    }
   ],
   "source": [
    "input_matrix = [\n",
    "  [0, 0, 0],\n",
    "  [1, 1, 1],\n",
    "  [0, 0, 0]\n",
    "]\n",
    "\n",
    "game_of_life(input_matrix)"
   ]
  },
  {
   "cell_type": "code",
   "execution_count": 149,
   "metadata": {},
   "outputs": [],
   "source": [
    "def game_of_life(input_matrix):\n",
    "    for  row, i in enumerate(input_matrix):\n",
    "        print(row, i)\n",
    "        \n",
    "        for index, value in enumerate(i):\n",
    "            i_neighbours = 0\n",
    "            print(\"index:\", index, \"value:\", value)\n",
    "            i_index = index\n",
    "            i_value = value\n",
    "            \n",
    "            if i_index == 0:\n",
    "                check_neighbours = i[(i_index+1)]\n",
    "                print(\"neighbour:\", check_neighbours)\n",
    "                \n",
    "            elif i_index == len(i)-1:\n",
    "                check_neighbours = i[(i_index-1)]\n",
    "                print(\"neighbour:\", check_neighbours)\n",
    "                \n",
    "            else:\n",
    "                check_neighbours = sum([i[(i_index+1)],i[(i_index-1)]])\n",
    "                print(\"neighbour:\", check_neighbours)\n",
    "            i_neighbours += check_neighbours\n",
    "            \n",
    "            \n",
    "            print(\"neighbours in row\", i_neighbours)"
   ]
  },
  {
   "cell_type": "code",
   "execution_count": 150,
   "metadata": {},
   "outputs": [
    {
     "name": "stdout",
     "output_type": "stream",
     "text": [
      "0 [0, 0, 0]\n",
      "index: 0 value: 0\n",
      "neighbour: 0\n",
      "neighbours in row 0\n",
      "index: 1 value: 0\n",
      "neighbour: 0\n",
      "neighbours in row 0\n",
      "index: 2 value: 0\n",
      "neighbour: 0\n",
      "neighbours in row 0\n",
      "1 [1, 1, 1]\n",
      "index: 0 value: 1\n",
      "neighbour: 1\n",
      "neighbours in row 1\n",
      "index: 1 value: 1\n",
      "neighbour: 2\n",
      "neighbours in row 2\n",
      "index: 2 value: 1\n",
      "neighbour: 1\n",
      "neighbours in row 1\n",
      "2 [0, 0, 0]\n",
      "index: 0 value: 0\n",
      "neighbour: 0\n",
      "neighbours in row 0\n",
      "index: 1 value: 0\n",
      "neighbour: 0\n",
      "neighbours in row 0\n",
      "index: 2 value: 0\n",
      "neighbour: 0\n",
      "neighbours in row 0\n"
     ]
    }
   ],
   "source": [
    "input_matrix = [\n",
    "  [0, 0, 0],\n",
    "  [1, 1, 1],\n",
    "  [0, 0, 0]\n",
    "]\n",
    "\n",
    "game_of_life(input_matrix)"
   ]
  },
  {
   "cell_type": "code",
   "execution_count": null,
   "metadata": {},
   "outputs": [],
   "source": []
  },
  {
   "cell_type": "code",
   "execution_count": null,
   "metadata": {},
   "outputs": [],
   "source": []
  }
 ],
 "metadata": {
  "kernelspec": {
   "display_name": "Python 3",
   "language": "python",
   "name": "python3"
  },
  "language_info": {
   "codemirror_mode": {
    "name": "ipython",
    "version": 3
   },
   "file_extension": ".py",
   "mimetype": "text/x-python",
   "name": "python",
   "nbconvert_exporter": "python",
   "pygments_lexer": "ipython3",
   "version": "3.7.4"
  }
 },
 "nbformat": 4,
 "nbformat_minor": 2
}
